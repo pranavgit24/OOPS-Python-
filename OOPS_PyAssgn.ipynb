{
  "nbformat": 4,
  "nbformat_minor": 0,
  "metadata": {
    "colab": {
      "provenance": []
    },
    "kernelspec": {
      "name": "python3",
      "display_name": "Python 3"
    },
    "language_info": {
      "name": "python"
    }
  },
  "cells": [
    {
      "cell_type": "markdown",
      "source": [
        "# Theory Questions"
      ],
      "metadata": {
        "id": "pQWeWl7Djw6q"
      }
    },
    {
      "cell_type": "markdown",
      "source": [
        "Q1. What is Object Oriented Programming (OOP)?\n",
        "\n",
        "Object-oriented programming (OOP) is a programming paradigm that organizes software design around objects rather than actions or logic. Objects contain data (attributes) and behavior (methods), allowing for the creation of reusable, maintainable, and complex software systems.\n",
        "\n",
        "Key Concepts in OOP:\n",
        "\n",
        "-Classes:\n",
        "Blueprints for creating objects, defining their properties and behavior.\n",
        "\n",
        "-Objects:\n",
        "Instances of classes, representing real-world entities or concepts with their own state and actions.\n",
        "\n",
        "-Encapsulation\n",
        "\n",
        "-Inheritance\n",
        "\n",
        "-Polymorphism\n",
        "\n",
        "Benefits of OOP:\n",
        "\n",
        "Modularity\n",
        "\n",
        "Reusability\n",
        "\n",
        "Maintainability\n",
        "\n",
        "Extensibility\n"
      ],
      "metadata": {
        "id": "4hU1lG4wjxH4"
      }
    },
    {
      "cell_type": "markdown",
      "source": [
        "Q2. What is a class in OOP?\n",
        "\n",
        "A class in Python is a blueprint or template for creating objects (instances). A class defines attributes (data) and methods (behavior).\n",
        "We can create multiple objects from a single class.\n",
        "eg.\n",
        "\n",
        "class Dog:\n",
        "    def __init__(self, name, breed):\n",
        "        self.name = name      '''Attribute'''\n",
        "        self.breed = breed\n",
        "  \n",
        "    def bark(self):          '''this is a method'''\n",
        "        print(f\"{self.name} says Woof!\")\n",
        "\n",
        "d1 = Dog(\"Buddy\", \"Labrador\") '''object creation'''\n",
        "d1.bark()"
      ],
      "metadata": {
        "id": "itln8KVujxTH"
      }
    },
    {
      "cell_type": "markdown",
      "source": [
        "Q3. What is an object in OOP?\n",
        "\n",
        "An object is an instance of a class — it's a real-world entity created using the blueprint provided by a class.\n",
        "\n",
        "If a class is a blueprint, an object is the actual building made from it.\n",
        "eg.\n",
        "\n",
        "class Car:\n",
        "    def __init__(self, brand, color):\n",
        "        self.brand = brand\n",
        "        self.color = color\n",
        "\n",
        "    def start(self):\n",
        "        print(f\"{self.color} {self.brand} is starting.\")\n",
        "\n",
        "car1 = Car(\"Toyota\", \"Red\")  ''' creating an object'''\n",
        "car1.start() ''' calling the method '''\n",
        "\n"
      ],
      "metadata": {
        "id": "Iso1tHBEjxdi"
      }
    },
    {
      "cell_type": "markdown",
      "source": [
        "Q4. What is the difference between abstraction and encapsulation?\n",
        "\n",
        "Abstraction means hiding the internal implementation details and showing only the essential features to the user. It answers: “What does it do?” rather than “How does it do it?\". Achieved using abstract base classes (ABC) and abstract methods\n",
        "\n",
        "from abc import ABC, abstractmethod\n",
        "\n",
        "class Animal(ABC):\n",
        "    @abstractmethod\n",
        "    def sound(self):\n",
        "        pass  '''Only defines what should happen, not how'''\n",
        "\n",
        "class Dog(Animal):\n",
        "    def sound(self):\n",
        "        return \"Woof\"\n",
        "\n",
        "\n",
        "Encapsulation is about wrapping data (attributes) and methods (functions) into a single unit (a class) and restricting direct access to some of the object's components.\n",
        "It protects data by controlling access.\n",
        "\n",
        "Achieved using access modifiers:\n",
        "\n",
        "_protected (convention)\n",
        "\n",
        "__private (name mangling)\n",
        "\n",
        "class BankAccount:\n",
        "    def __init__(self, balance):\n",
        "        self.__balance = balance  '''private attribute'''\n",
        "\n",
        "    def deposit(self, amount):\n",
        "        self.__balance += amount\n",
        "\n",
        "    def get_balance(self):\n",
        "        return self.__balance\n",
        "''' Here __balance is hidden from outside access and can only be accessed via get_balance() — this is encapsulation.'''"
      ],
      "metadata": {
        "id": "WTe7HT8SjxnA"
      }
    },
    {
      "cell_type": "markdown",
      "source": [
        "Q5. What are dunder methods in Python?\n",
        "\n",
        "Dunder methods (short for \"double underscore\" methods) are special built-in methods in Python that start and end with double underscores (like __init__, __str__, __add__, __len__, __eq__ etc.).\n",
        "\n",
        "Purpose:\n",
        "They allow custom classes to behave like built-in types by supporting:\n",
        "\n",
        "Object construction\n",
        "\n",
        "Printing\n",
        "\n",
        "Arithmetic operations\n",
        "\n",
        "Comparisons\n",
        "\n",
        "Collection behavior (length, iteration, etc.)\n",
        "eg.\n",
        "class Book:\n",
        "    def __init__(self, title):\n",
        "        self.title = title\n",
        "\n",
        "    def __str__(self):\n",
        "        return f\"Book title: {self.title}\"\n",
        "\n",
        "book = Book(\"1984\")\n",
        "print(book)"
      ],
      "metadata": {
        "id": "Mb0XNcKejxqk"
      }
    },
    {
      "cell_type": "markdown",
      "source": [
        "Q6. Explain the concept of inheritance in OOP\n",
        "\n",
        "Inheritance allows a class (called a child or derived class) to acquire properties and behaviors (attributes and methods) from another class (called a parent or base class).\n",
        "\n",
        "It promotes code reusability and hierarchical relationships between classes.\n",
        "\n",
        "class Animal:  # Parent class\n",
        "    def speak(self):\n",
        "        print(\"Animal speaks\")\n",
        "\n",
        "class Dog(Animal):  '''Child class inherits from Animal'''\n",
        "    def bark(self):\n",
        "        print(\"Dog barks\")\n",
        "\n",
        "'''usage'''\n",
        "d = Dog()\n",
        "d.speak()  '''Inherited from Animal'''\n",
        "d.bark()   '''Defined in Dog'''\n"
      ],
      "metadata": {
        "id": "OK0w4P9Jjxtx"
      }
    },
    {
      "cell_type": "markdown",
      "source": [
        "Q7. What is Polymorphism in OOP?\n",
        "\n",
        "Polymorphism means \"many forms.\"\n",
        "\n",
        "In OOP, it refers to the ability of different objects to respond to the same method or operation in their own way.\n",
        "It allows a single interface to be used for different data types or classes.\n",
        "\n",
        "class Animal:\n",
        "    def speak(self):\n",
        "        return \"Some sound\"\n",
        "\n",
        "class Dog(Animal):\n",
        "    def speak(self):\n",
        "        return \"Woof\"\n",
        "\n",
        "class Cat(Animal):\n",
        "    def speak(self):\n",
        "        return \"Meow\"\n",
        "\n",
        "def make_animal_speak(animal):\n",
        "    print(animal.speak())\n",
        "\n",
        "a = Dog()\n",
        "b = Cat()\n",
        "\n",
        "make_animal_speak(a)  '''Output: Woof'''\n",
        "make_animal_speak(b)  '''Output: Meow'''\n",
        "\n",
        "Here, make_animal_speak() calls the speak() method on any object passed in — this is polymorphism."
      ],
      "metadata": {
        "id": "_Hus4dR1jxxB"
      }
    },
    {
      "cell_type": "markdown",
      "source": [
        "Q8. How is encapsulation achieved in Python?\n",
        "\n",
        "Encapsulation is the OOP principle of bundling data and methods that operate on that data within one class, and restricting direct access to some components.\n",
        "\n",
        "How Encapsulation is Achieved in Python:\n",
        "Python uses naming conventions to control access:\n",
        "\n",
        "public (no _) : \tAccessible anywhere\n",
        "_protected :\tInternal use only\n",
        "\n",
        "__private : Name mangling used\n",
        "\n",
        "\n",
        "class BankAccount:\n",
        "    def __init__(self, balance):\n",
        "        self.__balance = balance  # private attribute\n",
        "\n",
        "    def deposit(self, amount):\n",
        "        if amount > 0:\n",
        "            self.__balance += amount\n",
        "\n",
        "    def get_balance(self):\n",
        "        return self.__balance\n",
        "'''trying to access private data directly'''\n",
        "account = BankAccount(1000)\n",
        "print(account.__balance)  '''AttributeError'''"
      ],
      "metadata": {
        "id": "TaUjMtzSjx0F"
      }
    },
    {
      "cell_type": "markdown",
      "source": [
        "Q9. What is a Constructor in Python?\n",
        "\n",
        "A constructor is a special method used to initialize objects when a class is instantiated.\n",
        "\n",
        "In Python, the constructor method is called __init__().\n",
        "\n",
        "class Person:\n",
        "    def __init__(self, name, age):\n",
        "        self.name = name     '''assign to instance'''\n",
        "        self.age = age\n",
        "\n",
        "The __init__() method is automatically called when we create an object.\n",
        "\n",
        "It is used to set up initial values (attributes) for the object.\n",
        "\n"
      ],
      "metadata": {
        "id": "02RdDpgajx2-"
      }
    },
    {
      "cell_type": "markdown",
      "source": [
        "Q10. What are class and static methods in Python?\n",
        "\n",
        "Class Method (@classmethod)\n",
        "Purpose:\n",
        "Works with the class itself, not the instance.\n",
        "\n",
        "Often used to create factory methods or access/modify class-level data.\n",
        "\n",
        "Key Points:\n",
        "Uses @classmethod decorator.\n",
        "\n",
        "Takes cls as the first parameter (refers to the class).\n",
        "eg.\n",
        "class Person:\n",
        "    count = 0  '''class variable'''\n",
        "\n",
        "    def __init__(self, name):\n",
        "        self.name = name\n",
        "        Person.count += 1\n",
        "\n",
        "    @classmethod\n",
        "    def get_count(cls):\n",
        "        return cls.count\n",
        "\n",
        "p1 = Person(\"Alice\")\n",
        "p2 = Person(\"Bob\")\n",
        "print(Person.get_count())\n",
        "\n",
        "\n",
        "Static Method (@staticmethod)\n",
        "Purpose:\n",
        "A method that doesn't access class (cls) or instance (self).\n",
        "\n",
        "Used when the logic is related to the class but doesn't need class or instance data.\n",
        "\n",
        "Key Points:\n",
        "Uses @staticmethod decorator.\n",
        "\n",
        "Takes no self or cls parameter.\n",
        "eg.\n",
        "\n",
        "class MathUtils:\n",
        "    @staticmethod\n",
        "    def add(x, y):  ''' does not require self or cls'''\n",
        "        return x + y\n",
        "\n",
        "print(MathUtils.add(3, 5))"
      ],
      "metadata": {
        "id": "SlbHQL5JftTp"
      }
    },
    {
      "cell_type": "markdown",
      "source": [
        "Q11. What is method overloading in Python?\n",
        "\n",
        "Method overloading means defining multiple methods with the same name but different parameters (number or type).\n",
        "It allows the method to perform different tasks depending on the input\n",
        "\n",
        "Python does not directly support traditional method overloading (like defining multiple versions of a method with different signatures).\n",
        "\n",
        "If we define a method with the same name multiple times, only the last one is kept.\n",
        "\n",
        "Python supports method overloading behavior using:\n",
        "\n",
        "-Default arguments\n",
        "\n",
        "-Variable-length arguments (*args, **kwargs)\n",
        "\n",
        " Eg. using default arguments\n",
        "class Greet:\n",
        "    def hello(self, name=None):\n",
        "        if name:\n",
        "            print(f\"Hello, {name}!\")\n",
        "        else:\n",
        "            print(\"Hello!\")\n",
        "\n",
        "g = Greet()\n",
        "g.hello()       ''' output: Hello!'''\n",
        "g.hello(\"Alice\")  ''' output: Hello, Alice'''\n",
        "\n",
        "Eg, using *args\n",
        "\n",
        "class Calculator:\n",
        "    def add(self, *args):\n",
        "        return sum(args)\n",
        "\n",
        "c = Calculator()\n",
        "print(c.add(1, 2))           ''' Output: 3'''\n",
        "print(c.add(1, 2, 3, 4))     ''' Output: 10'''"
      ],
      "metadata": {
        "id": "9X1p4Y30ftQQ"
      }
    },
    {
      "cell_type": "markdown",
      "source": [
        "Q12. what is method overriding in OOP?\n",
        "\n",
        "Method overriding is when a child class provides its own version of a method that is already defined in its parent class.\n",
        "\n",
        "It allows a subclass to customize or replace the behavior of a method inherited from the parent class.\n",
        "\n",
        "class Animal:\n",
        "    def speak(self):\n",
        "        print(\"Some generic animal sound\")\n",
        "\n",
        "class Dog(Animal):\n",
        "    def speak(self):\n",
        "        print(\"Woof!\")  # Overriding the parent method\n",
        "\n",
        "class Cat(Animal):\n",
        "    def speak(self):\n",
        "        print(\"Meow!\")\n",
        "a = Animal()\n",
        "d = Dog()\n",
        "c = Cat()\n",
        "\n",
        "a.speak()  ''' Output: Some generic animal sound'''\n",
        "d.speak()  ''' Output: Woof!'''\n",
        "c.speak()"
      ],
      "metadata": {
        "id": "gz2SgEVVfs_n"
      }
    },
    {
      "cell_type": "markdown",
      "source": [
        "Q13.\n",
        "The @property decorator in Python is a powerful feature used to control access to attributes in an elegant and Pythonic way.\n",
        "\n",
        "The @property decorator allows us to define a method that can be accessed like an attribute, while still giving us control over getting, setting, or deleting the value.\n",
        "\n",
        "eg.\n",
        "class Circle:\n",
        "    def __init__(self, radius):\n",
        "        self._radius = radius\n",
        "\n",
        "    @property\n",
        "    def radius(self):\n",
        "        return self._radius\n",
        "\n",
        "    @radius.setter\n",
        "    def radius(self, value):\n",
        "        if value < 0:\n",
        "            raise ValueError(\"Radius cannot be negative\")\n",
        "        self._radius = value\n",
        "\n",
        "    @property\n",
        "    def area(self):\n",
        "        return 3.14 * self._radius ** 2\n",
        "\n",
        "c = Circle(5)\n",
        "print(c.radius)      '''Calls the getter → Output: 5'''\n",
        "print(c.area)        '''Calls area (read-only property) → Output: 78.5'''\n",
        "\n",
        "c.radius = 10        '''Calls the setter'''\n",
        "print(c.area)        '''Output: 314.0'''\n",
        "\n",
        "c.radius = -3"
      ],
      "metadata": {
        "id": "lmTSOA_Qfs8H"
      }
    },
    {
      "cell_type": "markdown",
      "source": [
        "Q14. Why is Polymorphism important in OOP?\n",
        "\n",
        "Polymorphism — meaning “many forms” — is a key pillar of Object-Oriented Programming that allows objects of different classes to be treated through a common interface, while behaving differently based on their actual type.\n",
        "\n",
        "-Code Reusability\n",
        "You can write generic code that works with different object types.\n",
        "\n",
        "No need to rewrite the same logic for each class.\n",
        "\n",
        "-Improves Flexibility and Maintainability\n",
        "You can extend or modify functionality without touching the core logic.\n",
        "\n",
        "New classes can plug into existing code without changes\n",
        "\n",
        "-Supports Substitutability (Liskov Principle)\n",
        "You can substitute a subclass object wherever a parent class reference is expected.\n",
        "\n",
        "Promotes interchangeable components.\n",
        "\n",
        "-Simplifies Code\n",
        "Reduces the need for conditionals like if isinstance(obj, ...).\n",
        "\n",
        "Cleaner, more readable logic using shared interfaces."
      ],
      "metadata": {
        "id": "D3Alpx4nfs4_"
      }
    },
    {
      "cell_type": "markdown",
      "source": [
        "Q15. What is an abstract class in Python?\n",
        "\n",
        "An abstract class is a class that cannot be instantiated directly.\n",
        "It serves as a blueprint for other classes and may contain abstract methods—methods that must be implemented by any subclass.\n",
        "\n",
        "Abstract classes define what should be done, but not how.\n",
        "\n",
        "from abc import ABC, abstractmethod\n",
        "\n",
        "class Animal(ABC):  # Abstract class\n",
        "    @abstractmethod\n",
        "    def sound(self):\n",
        "        pass  '''No implementation here'''\n",
        "\n",
        "a = Animal()  ''' Error: Can't instantiate abstract class'''"
      ],
      "metadata": {
        "id": "0KhdCr0kfs2K"
      }
    },
    {
      "cell_type": "markdown",
      "source": [
        "Q16. What are the advantages of OOP?\n",
        "\n",
        "The advantages of OOP are:\n",
        "\n",
        "Modularity\n",
        "\tOrganize code into logical units\n",
        "\n",
        "Reusability'\n",
        "\n",
        "\tShare and extend code through inheritance\n",
        "Encapsulation\n",
        "\n",
        "\tHide internal details, protect data\n",
        "Polymorphism\n",
        "\n",
        "\tSame interface, different behavior\n",
        "Inheritance\n",
        "\n",
        "\tBuild on existing code\n",
        "Maintainability\n",
        "\n",
        "\tEasier to debug and update\n",
        "Scalability\n",
        "\n",
        "    Supports growing projects\n",
        "Real-world fit\n",
        "\n",
        "\tMaps code to real-world structures"
      ],
      "metadata": {
        "id": "oFAFx_xvfszC"
      }
    },
    {
      "cell_type": "markdown",
      "source": [
        "Q17. What is the difference between a class variable and an instance variable?\n",
        "\n",
        "Class Variable is defined at Class level (outside any method)\n",
        "Instance Variable is defined Inside the __init__() method\n",
        "\n",
        "Class variable is shared by all instances of the class. Instance variable is specific to each instance.\n",
        "\n",
        "Class variable is accessed via class name or instance. Instance variable is accessed via only the instance\n",
        "\n",
        "class Dog:\n",
        "    species = \"Canine\"  '''Class variable'''\n",
        "\n",
        "    def __init__(self, name):\n",
        "        self.name = name  '''Instance variable'''\n",
        "\n",
        "d1 = Dog(\"Buddy\")\n",
        "d2 = Dog(\"Max\")\n",
        "\n",
        "print(d1.name)      '''Buddy (instance variable)'''\n",
        "print(d2.name)      '''Max   (different value)'''\n",
        "\n",
        "print(d1.species)   '''Canine (from class)\n",
        "print(d2.species)   '''Canine (same shared value)'''"
      ],
      "metadata": {
        "id": "uRvujttHfswW"
      }
    },
    {
      "cell_type": "markdown",
      "source": [
        "Q18. What is multiple inheritance in Python?\n",
        "\n",
        "Multiple inheritance means a class can inherit from more than one parent class.\n",
        "\n",
        "This allows a child class to combine features and behaviors from multiple classes.\n",
        "\n",
        "class Father:\n",
        "    def skills(self):\n",
        "        print(\"Gardening, Carpentry\")\n",
        "\n",
        "class Mother:\n",
        "    def skills(self):\n",
        "        print(\"Cooking, Art\")\n",
        "\n",
        "class Child(Father, Mother):\n",
        "    def skills(self):\n",
        "        super().skills()\n",
        "        print(\"Python Programming\")\n",
        "\n",
        "c = Child()\n",
        "c.skills()\n",
        "\n",
        "  '''Gardening, Carpentry\n",
        "             Python Programming'''"
      ],
      "metadata": {
        "id": "GSNupKzRjx6c"
      }
    },
    {
      "cell_type": "markdown",
      "source": [
        "Q19. Explain the purpose of __str__ and __repr__ methods in Python\n",
        "\n",
        "Both are special (dunder) methods used to define how an object is represented as a string.\n",
        "\n",
        "__str__ is used in case of print() and str(obj). __repr__ is used in case of repr(obj) in the shell\n",
        "\n",
        "class Book:\n",
        "    def __init__(self, title, author):\n",
        "        self.title = title\n",
        "        self.author = author\n",
        "\n",
        "    def __str__(self):\n",
        "        return f\"{self.title} by {self.author}\"\n",
        "\n",
        "    def __repr__(self):\n",
        "        return f\"Book('{self.title}', '{self.author}')\"\n",
        "\n",
        "b = Book(\"1984\", \"George Orwell\")\n",
        "\n",
        "print(str(b))   '''1984 by George Orwell  → __str__ is called'''\n",
        "print(repr(b))  '''Book('1984', 'George Orwell') → __repr__ is called'''"
      ],
      "metadata": {
        "id": "CYcRQRO3eyOL"
      }
    },
    {
      "cell_type": "markdown",
      "source": [
        "\n",
        "Q20. What is the significance of super() function in Python?\n",
        "\n",
        "The super() function in Python is used to call methods from a parent (super) class in a child class.\n",
        "\n",
        "It’s especially useful in inheritance when:\n",
        "\n",
        "We want to extend or customize the behavior of a parent class method.\n",
        "\n",
        "We want to avoid hardcoding the parent class name.\n",
        "\n",
        "We’re dealing with multiple inheritance and want proper method resolution.\n",
        "\n",
        "class Parent:\n",
        "    def show(self):\n",
        "        print(\"Parent method\")\n",
        "\n",
        "class Child(Parent):\n",
        "    def show(self):\n",
        "        super().show()  # Call method from Parent\n",
        "        print(\"Child method\")\n",
        "\n",
        "c = Child()\n",
        "c.show()\n"
      ],
      "metadata": {
        "id": "cDRqQC0eex9S"
      }
    },
    {
      "cell_type": "markdown",
      "source": [
        "Q21. What is the significance of the __del__ method in Python?\n",
        "\n",
        "The __del__() method in Python is a special (dunder) method called when an object is about to be destroyed, i.e., when it is garbage collected.\n",
        "\n",
        "It is also known as a destructor.\n",
        "\n",
        "Purpose:\n",
        "Used to clean up resources — like closing files, releasing network connections, etc.\n",
        "\n",
        "Acts like a \"cleanup hook\" before the object is removed from memory.\n",
        "\n",
        "class FileHandler:\n",
        "    def __init__(self, filename):\n",
        "        self.file = open(filename, 'w')\n",
        "        print(\"File opened.\")\n",
        "\n",
        "    def __del__(self):\n",
        "        self.file.close()\n",
        "        print(\"File closed.\")\n",
        "\n",
        "fh = FileHandler(\"test.txt\")\n",
        "'''When fh goes out of scope or is deleted, __del__ is called'''"
      ],
      "metadata": {
        "id": "FS4mo3OKexIp"
      }
    },
    {
      "cell_type": "markdown",
      "source": [
        "Q22. What is the difference between @staticmethod and @classmethod in Python?\n",
        "\n",
        "Static Method (@staticmethod)\n",
        "Purpose:\n",
        "A method that doesn't access class (cls) or instance (self).\n",
        "\n",
        "Used when the logic is related to the class but doesn't need class or instance data.\n",
        "\n",
        "Key Points:\n",
        "Uses @staticmethod decorator.\n",
        "\n",
        "Takes no self or cls parameter.\n",
        "eg.\n",
        "\n",
        "class MathUtils:\n",
        "    @staticmethod\n",
        "    def add(x, y):  ''' does not require self or cls'''\n",
        "        return x + y\n",
        "        \n",
        "print(MathUtils.add(3, 5))\n",
        "\n",
        "Class Method (@classmethod)\n",
        "Purpose:\n",
        "Works with the class itself, not the instance.\n",
        "\n",
        "Often used to create factory methods or access/modify class-level data.\n",
        "\n",
        "Key Points:\n",
        "Uses @classmethod decorator.\n",
        "\n",
        "Takes cls as the first parameter (refers to the class).\n",
        "eg.\n",
        "class Person:\n",
        "    count = 0  '''class variable'''\n",
        "\n",
        "    def __init__(self, name):\n",
        "        self.name = name\n",
        "        Person.count += 1\n",
        "\n",
        "    @classmethod\n",
        "    def get_count(cls):\n",
        "        return cls.count\n",
        "\n",
        "p1 = Person(\"Alice\")\n",
        "p2 = Person(\"Bob\")\n",
        "print(Person.get_count())\n"
      ],
      "metadata": {
        "id": "rKLpI_fWg0ux"
      }
    },
    {
      "cell_type": "markdown",
      "source": [
        "Q23. How does Polymorphism work in Python with inheritance?\n",
        "\n",
        "Polymorphism allows different classes to define methods with the same name, and for objects of those classes to be used interchangeably.\n",
        "\n",
        "With inheritance, polymorphism lets a subclass override a method from the parent class, while still being treated like the parent type.\n",
        "\n",
        "class Animal:\n",
        "    def speak(self):\n",
        "        return \"Some sound\"\n",
        "\n",
        "class Dog(Animal):\n",
        "    def speak(self):\n",
        "        return \"Bark\"\n",
        "\n",
        "class Cat(Animal):\n",
        "    def speak(self):\n",
        "        return \"Meow\"\n",
        "\n",
        "def animal_sound(animal):\n",
        "    print(animal.speak())\n",
        "\n",
        "'''All treated as 'Animal', but behavior depends on subclass'''\n",
        "animal_sound(Dog())   '''Output: Bark'''\n",
        "animal_sound(Cat())   '''Output: Meow'''"
      ],
      "metadata": {
        "id": "VAcJ1NY7g0kV"
      }
    },
    {
      "cell_type": "markdown",
      "source": [
        "Q24. What is method chaining in Python OOP?\n",
        "\n",
        "Method chaining is a technique where you call multiple methods on the same object consecutively in a single line, like this:\n",
        "\n",
        "obj.method1().method2().method3()\n",
        "\n",
        "For method chaining to work, each method returns the object itself (self) so that the next method can be called on it.\n",
        "\n",
        "It encourages calling multiple operations sequentially on the same object. Also makes the code concise.\n",
        "\n",
        "class Car:\n",
        "    def __init__(self):\n",
        "        self.speed = 0\n",
        "\n",
        "    def accelerate(self, amount):\n",
        "        self.speed += amount\n",
        "        return self    # Return self to allow chaining\n",
        "\n",
        "    def brake(self, amount):\n",
        "        self.speed -= amount\n",
        "        return self\n",
        "\n",
        "    def display_speed(self):\n",
        "        print(f\"Speed: {self.speed} km/h\")\n",
        "        return self\n",
        "\n",
        "car = Car()\n",
        "car.accelerate(50).brake(10).display_speed()  '''Speed: 40 km/h'''"
      ],
      "metadata": {
        "id": "rYPwIC3pg0ac"
      }
    },
    {
      "cell_type": "markdown",
      "source": [
        "Q25. What is the method of __call__ method in Python?\n",
        "\n",
        "The __call__ method is a special dunder method that allows an instance of a class to be called like a function.\n",
        "\n",
        "In other words, if a class defines __call__(), we can do:\n",
        "\n",
        "obj = MyClass()\n",
        "obj()   '''This calls obj.__call__()'''\n",
        "\n",
        "Purpose:\n",
        "Makes objects behave like functions.\n",
        "\n",
        "Useful for function objects, callbacks, or wrapping functionality inside objects.\n",
        "\n",
        "Enables more flexible and expressive APIs.\n",
        "\n",
        "Used when:\n",
        "When we want our object to act like a function but still keep internal state.\n",
        "\n",
        "For creating functors (function objects) in a clean, OOP way.\n",
        "\n",
        "class Multiplier:\n",
        "    def __init__(self, factor):\n",
        "        self.factor = factor\n",
        "\n",
        "    def __call__(self, x):\n",
        "        return x * self.factor\n",
        "\n",
        "m = Multiplier(3)\n",
        "print(m(10))  '''output:30'''"
      ],
      "metadata": {
        "id": "w0tegBbYgz3T"
      }
    },
    {
      "cell_type": "code",
      "source": [
        "#Practical Questions"
      ],
      "metadata": {
        "id": "MYsCsaSaj6Q_"
      },
      "execution_count": 1,
      "outputs": []
    },
    {
      "cell_type": "code",
      "source": [
        "#Q1. Create a parent class Animal with a method speak() that prints a generic message. Create a child class Dog that overrides the speak() method\n",
        "#to print \"Bark!\"\n",
        "\n",
        "class Animal:\n",
        "    def speak(self):\n",
        "        print(\"Generic animal sound\")\n",
        "\n",
        "class Dog(Animal):\n",
        "    def speak(self):\n",
        "        print(\"Bark!\")\n",
        "a = Animal()\n",
        "a.speak()\n",
        "d = Dog()\n",
        "d.speak()"
      ],
      "metadata": {
        "colab": {
          "base_uri": "https://localhost:8080/"
        },
        "id": "SFeSgk8bj8x8",
        "outputId": "3096eaad-a8cd-47a6-b4b8-ec23401aca53"
      },
      "execution_count": 3,
      "outputs": [
        {
          "output_type": "stream",
          "name": "stdout",
          "text": [
            "Generic animal sound\n",
            "Bark!\n"
          ]
        }
      ]
    },
    {
      "cell_type": "code",
      "source": [
        "#Q2. Write a program to create an abstract class Shape with a method Area(). Derive classes Circle and Rectangle from it and implement\n",
        "#the area() method in both.\n",
        "\n",
        "from abc import ABC, abstractmethod\n",
        "import math\n",
        "\n",
        "# Abstract base class\n",
        "class Shape(ABC):\n",
        "\n",
        "    @abstractmethod\n",
        "    def area(self):\n",
        "        pass  # Abstract method (no implementation)\n",
        "\n",
        "# Derived class: Circle\n",
        "class Circle(Shape):\n",
        "    def __init__(self, radius):\n",
        "        self.radius = radius\n",
        "\n",
        "    def area(self):\n",
        "        return math.pi * self.radius * self.radius\n",
        "\n",
        "# Derived class: Rectangle\n",
        "class Rectangle(Shape):\n",
        "    def __init__(self, length, width):\n",
        "        self.length = length\n",
        "        self.width = width\n",
        "\n",
        "    def area(self):\n",
        "        return self.length * self.width\n",
        "\n",
        "# Testing\n",
        "circle = Circle(5)\n",
        "rectangle = Rectangle(4, 6)\n",
        "\n",
        "print(f\"Area of Circle: {circle.area():.2f}\")\n",
        "print(f\"Area of Rectangle: {rectangle.area()}\")"
      ],
      "metadata": {
        "colab": {
          "base_uri": "https://localhost:8080/"
        },
        "id": "70h30YmPk0ZW",
        "outputId": "99024ff2-1186-4a14-9e6e-194f2189d5e6"
      },
      "execution_count": 4,
      "outputs": [
        {
          "output_type": "stream",
          "name": "stdout",
          "text": [
            "Area of Circle: 78.54\n",
            "Area of Rectangle: 24\n"
          ]
        }
      ]
    },
    {
      "cell_type": "code",
      "source": [
        "#Q3. Implement a multi-level inheritance scenario where a class vehicle has an attribute type. Derive a class Car and further derive a class ElectricCar\n",
        "# that adds a battery attribute\n",
        "\n",
        "class Vehicle:\n",
        "    def __init__(self, v_type):\n",
        "        self.type = v_type\n",
        "\n",
        "# Derived class from Vehicle\n",
        "class Car(Vehicle):\n",
        "    def __init__(self, v_type, brand):\n",
        "        super().__init__(v_type)  # Call Vehicle's constructor\n",
        "        self.brand = brand\n",
        "\n",
        "# Further derived class from Car\n",
        "class ElectricCar(Car):\n",
        "    def __init__(self, v_type, brand, battery_capacity):\n",
        "        super().__init__(v_type, brand)  # Call Car's constructor\n",
        "        self.battery = battery_capacity\n",
        "\n",
        "    def display_info(self):\n",
        "        print(f\"Type: {self.type}\")\n",
        "        print(f\"Brand: {self.brand}\")\n",
        "        print(f\"Battery: {self.battery} kWh\")\n",
        "\n",
        "# Testing the multi-level inheritance\n",
        "e_car = ElectricCar(\"Four Wheeler\", \"Tesla\", 75)\n",
        "e_car.display_info()"
      ],
      "metadata": {
        "colab": {
          "base_uri": "https://localhost:8080/"
        },
        "id": "nFe-scdXqGNX",
        "outputId": "5889e4dd-4c23-4109-b832-32677e0609d5"
      },
      "execution_count": 5,
      "outputs": [
        {
          "output_type": "stream",
          "name": "stdout",
          "text": [
            "Type: Four Wheeler\n",
            "Brand: Tesla\n",
            "Battery: 75 kWh\n"
          ]
        }
      ]
    },
    {
      "cell_type": "code",
      "source": [
        "#Q4. Demonstrates polymorphism by creating a base class Bird with a method fly(). Create two derived classes Sparrow and Penguin that\n",
        "#override the fly() method.\n",
        "\n",
        "class Bird:\n",
        "    def fly(self):\n",
        "        print(\"Some birds can fly.\")\n",
        "\n",
        "# Derived class Sparrow\n",
        "class Sparrow(Bird):\n",
        "    def fly(self):\n",
        "        print(\"Sparrow flies high in the sky.\")\n",
        "\n",
        "# Derived class Penguin\n",
        "class Penguin(Bird):\n",
        "    def fly(self):\n",
        "        print(\"Penguins cannot fly but they swim well.\")\n",
        "\n",
        "# Demonstrating polymorphism\n",
        "def bi_test(bird):\n",
        "    bird.fly()\n",
        "\n",
        "# Create objects\n",
        "b1 = Sparrow()\n",
        "b2 = Penguin()\n",
        "\n",
        "# Call fly using polymorphic behavior\n",
        "bi_test(b1)  # Output: Sparrow flies high in the sky.\n",
        "bi_test(b2)  # Output: Penguins cannot fly but they swim well.\n",
        "\n"
      ],
      "metadata": {
        "colab": {
          "base_uri": "https://localhost:8080/"
        },
        "id": "GX87SkmVtbfX",
        "outputId": "559bcad4-3fa5-479a-9f29-d5fd4376f0f8"
      },
      "execution_count": 7,
      "outputs": [
        {
          "output_type": "stream",
          "name": "stdout",
          "text": [
            "Sparrow flies high in the sky.\n",
            "Penguins cannot fly but they swim well.\n"
          ]
        }
      ]
    },
    {
      "cell_type": "code",
      "source": [
        "#Q5. Write a program to demonstrate encapsulation by creating a class BankAccount with private attributes balance and methods to deposit, withdraw\n",
        "# and check balance.\n",
        "\n",
        "class BankAccount:\n",
        "    def __init__(self, initial_balance):\n",
        "        # Private attribute using double underscore\n",
        "        self.__balance = initial_balance\n",
        "\n",
        "    # Method to deposit money\n",
        "    def deposit(self, amount):\n",
        "        if amount > 0:\n",
        "            self.__balance += amount\n",
        "            print(f\"Deposited: ${amount}\")\n",
        "        else:\n",
        "            print(\"Invalid deposit amount.\")\n",
        "\n",
        "    # Method to withdraw money\n",
        "    def withdraw(self, amount):\n",
        "        if 0 < amount <= self.__balance:\n",
        "            self.__balance -= amount\n",
        "            print(f\"Withdrawn: ${amount}\")\n",
        "        else:\n",
        "            print(\"Insufficient balance or invalid amount.\")\n",
        "\n",
        "    # Method to check balance\n",
        "    def get_balance(self):\n",
        "        return self.__balance\n",
        "\n",
        "# Creating an object\n",
        "account = BankAccount(1000)\n",
        "\n",
        "# Performing operations\n",
        "account.deposit(500)           # Deposited: $500\n",
        "account.withdraw(200)          # Withdrawn: $200\n",
        "print(\"Current Balance:\", account.get_balance())  # Output: 1300\n"
      ],
      "metadata": {
        "colab": {
          "base_uri": "https://localhost:8080/"
        },
        "id": "7_CCo3G0y4yM",
        "outputId": "cb9a9133-2222-4c1b-c4e7-1ee2d76408d8"
      },
      "execution_count": 8,
      "outputs": [
        {
          "output_type": "stream",
          "name": "stdout",
          "text": [
            "Deposited: $500\n",
            "Withdrawn: $200\n",
            "Current Balance: 1300\n"
          ]
        }
      ]
    },
    {
      "cell_type": "code",
      "source": [
        "#Q6. Demonstrate runtime polymorphism using a method play() in a base class instrument. Derive classes Guitar and Piano that\n",
        "#implement their own version of play()\n",
        "\n",
        "# Base class\n",
        "class Instrument:\n",
        "    def play(self):\n",
        "        print(\"Playing an instrument.\")\n",
        "\n",
        "# Derived class Guitar\n",
        "class Guitar(Instrument):\n",
        "    def play(self):\n",
        "        print(\"Strumming the guitar.\")\n",
        "\n",
        "# Derived class Piano\n",
        "class Piano(Instrument):\n",
        "    def play(self):\n",
        "        print(\"Playing the piano keys.\")\n",
        "\n",
        "# Function that demonstrates polymorphism\n",
        "def perform_play(instrument):\n",
        "    instrument.play()\n",
        "\n",
        "# Create objects\n",
        "inst1 = Guitar()\n",
        "inst2 = Piano()\n",
        "\n",
        "# Use runtime polymorphism\n",
        "perform_play(inst1)  # Output: Strumming the guitar.\n",
        "perform_play(inst2)  # Output: Playing the piano keys."
      ],
      "metadata": {
        "colab": {
          "base_uri": "https://localhost:8080/"
        },
        "id": "tuu8YHi81HNx",
        "outputId": "3c75cbfa-5c18-448d-b0d4-393039dede2a"
      },
      "execution_count": 9,
      "outputs": [
        {
          "output_type": "stream",
          "name": "stdout",
          "text": [
            "Strumming the guitar.\n",
            "Playing the piano keys.\n"
          ]
        }
      ]
    },
    {
      "cell_type": "code",
      "source": [
        "#Q7. Create a class MathOperations with a class method add_numbers() to add two numbers and a static method subtract_numbers() to\n",
        "#subtract two numbers\n",
        "\n",
        "class MathOperations:\n",
        "    @classmethod\n",
        "    def add_numbers(cls, a, b):\n",
        "        return a + b\n",
        "\n",
        "    @staticmethod\n",
        "    def subtract_numbers(a, b):\n",
        "        return a - b\n",
        "# Using the class method\n",
        "sum_result = MathOperations.add_numbers(10, 5)\n",
        "print(\"Sum:\", sum_result)  # Output: Sum: 15\n",
        "\n",
        "# Using the static method\n",
        "difference = MathOperations.subtract_numbers(10, 5)\n",
        "print(\"Difference:\", difference)  # Output: Difference: 5"
      ],
      "metadata": {
        "id": "Fe394N-M4tKj"
      },
      "execution_count": null,
      "outputs": []
    },
    {
      "cell_type": "code",
      "source": [
        "#Q8. Implement a class Person with a class method to count the total number of persons created\n",
        "\n",
        "class Person:\n",
        "    count = 0  # Class variable to keep track of the number of persons\n",
        "\n",
        "    def __init__(self, name):\n",
        "        self.name = name\n",
        "        Person.count += 1\n",
        "\n",
        "    @classmethod\n",
        "    def get_person_count(cls):\n",
        "        return cls.count\n",
        "\n",
        "\n",
        "# Example usage:\n",
        "p1 = Person(\"Alice\")\n",
        "p2 = Person(\"Bob\")\n",
        "p3 = Person(\"Charlie\")\n",
        "\n",
        "print(Person.get_person_count())  # Output: 3"
      ],
      "metadata": {
        "colab": {
          "base_uri": "https://localhost:8080/"
        },
        "id": "RF4dnyVx7WbW",
        "outputId": "15222bb2-33d5-41e1-dd2b-36547878d2b0"
      },
      "execution_count": 10,
      "outputs": [
        {
          "output_type": "stream",
          "name": "stdout",
          "text": [
            "3\n"
          ]
        }
      ]
    },
    {
      "cell_type": "code",
      "source": [
        "#Q9. Write a class Fraction with attributes numerator and denominator. Override the str method to display the fraction\n",
        "#as 'numerator/denominator'\n",
        "\n",
        "class Fraction:\n",
        "    def __init__(self, numerator, denominator):\n",
        "        self.numerator = numerator\n",
        "        self.denominator = denominator\n",
        "\n",
        "    def __str__(self):\n",
        "        return f\"{self.numerator}/{self.denominator}\"\n",
        "\n",
        "\n",
        "# Example usage:\n",
        "f1 = Fraction(3, 4)\n",
        "print(f1)  # Output: 3/4\n"
      ],
      "metadata": {
        "id": "jsw6TlTG7XLR"
      },
      "execution_count": 9,
      "outputs": []
    },
    {
      "cell_type": "code",
      "source": [
        "#Q10. Demonstrate Operator overloading by creating a class Vector and overriding the add method to add two vectors\n",
        "\n",
        "class Vector:\n",
        "    def __init__(self, x, y):\n",
        "        self.x = x\n",
        "        self.y = y\n",
        "\n",
        "    def __add__(self, other):\n",
        "        # Add corresponding components\n",
        "        return Vector(self.x + other.x, self.y + other.y)\n",
        "\n",
        "    def __str__(self):\n",
        "        return f\"({self.x}, {self.y})\"\n",
        "\n",
        "obj1 = Vector(3, 4)\n",
        "obj2 = Vector(1, 2)\n",
        "result = obj1 + obj2\n",
        "print(result)  # Output: (4, 6)\n"
      ],
      "metadata": {
        "colab": {
          "base_uri": "https://localhost:8080/"
        },
        "id": "6NVjC98s7XHy",
        "outputId": "809e23e0-816c-4577-f2c1-e6939dfb0883"
      },
      "execution_count": 13,
      "outputs": [
        {
          "output_type": "stream",
          "name": "stdout",
          "text": [
            "(4, 6)\n"
          ]
        }
      ]
    },
    {
      "cell_type": "code",
      "source": [
        "#Q11. Create a class Person with attributes name and age. Add a method greet() that prints \"Hello my name is {name}\n",
        "# and I am {age} years old\"\n",
        "\n",
        "class Person:\n",
        "    def __init__(self, name, age):\n",
        "        self.name = name\n",
        "        self.age = age\n",
        "\n",
        "    def greet(self):\n",
        "        print(f\"Hello, my name is {self.name} and I am {self.age} years old.\")\n",
        "\n",
        "p1 = Person(\"Alice\", 24)\n",
        "p1.greet()  # Output: Hello, my name is Alice and I am 24 years old.\n"
      ],
      "metadata": {
        "colab": {
          "base_uri": "https://localhost:8080/"
        },
        "id": "YvZYb1uG7XEj",
        "outputId": "bd66df24-45d7-410a-a895-fd9fe720c59f"
      },
      "execution_count": 14,
      "outputs": [
        {
          "output_type": "stream",
          "name": "stdout",
          "text": [
            "Hello, my name is Alice and I am 24 years old.\n"
          ]
        }
      ]
    },
    {
      "cell_type": "code",
      "source": [
        "#Q12. Implement a class Student with attributes name and grades. Create a method average_grade() to compute the\n",
        "# average of the grades\n",
        "\n",
        "class Student:\n",
        "    def __init__(self, name, grades):\n",
        "        self.name = name\n",
        "        self.grades = grades  # grades should be a list of numbers\n",
        "\n",
        "    def average_grade(self):\n",
        "        if not self.grades:\n",
        "            return 0  # Avoid division by zero\n",
        "        return sum(self.grades) / len(self.grades)\n",
        "\n",
        "s1 = Student(\"John\", [85, 90, 78, 92])\n",
        "print(f\"{s1.name}'s average grade is: {s1.average_grade()}\")\n"
      ],
      "metadata": {
        "colab": {
          "base_uri": "https://localhost:8080/"
        },
        "id": "X3L7jHWp7XBU",
        "outputId": "12209e06-dc85-47d4-b25d-8367662f114d"
      },
      "execution_count": 15,
      "outputs": [
        {
          "output_type": "stream",
          "name": "stdout",
          "text": [
            "John's average grade is: 86.25\n"
          ]
        }
      ]
    },
    {
      "cell_type": "code",
      "source": [
        "#Q13. Create a class Rectangle with methods set_dimensions() to set the dimensions and area() to calculate the area\n",
        "\n",
        "class Rectangle:\n",
        "    def __init__(self):\n",
        "        self.width = 0\n",
        "        self.height = 0\n",
        "\n",
        "    def set_dimensions(self, width, height):\n",
        "        self.width = width\n",
        "        self.height = height\n",
        "\n",
        "    def area(self):\n",
        "        return self.width * self.height\n",
        "\n",
        "r = Rectangle()\n",
        "r.set_dimensions(5, 10)\n",
        "print(\"Area of rectangle:\", r.area())"
      ],
      "metadata": {
        "colab": {
          "base_uri": "https://localhost:8080/"
        },
        "id": "2L-frk9RJhsQ",
        "outputId": "f1aacecb-f926-4063-e1eb-d2742bd1fc46"
      },
      "execution_count": 16,
      "outputs": [
        {
          "output_type": "stream",
          "name": "stdout",
          "text": [
            "Area of rectangle: 50\n"
          ]
        }
      ]
    },
    {
      "cell_type": "code",
      "source": [
        "#Q14. Create a class Employee with a method calculate_salary() that computes the salary based on hours worked\n",
        "# and hourly rate. Create a derived class Manager that adds a bonus to the salary\n",
        "\n",
        "class Employee:\n",
        "    def __init__(self, hours_worked, hourly_rate):\n",
        "        self.hours_worked = hours_worked\n",
        "        self.hourly_rate = hourly_rate\n",
        "\n",
        "    def calculate_salary(self):\n",
        "        return self.hours_worked * self.hourly_rate\n",
        "\n",
        "\n",
        "class Manager(Employee):\n",
        "    def __init__(self, hours_worked, hourly_rate, bonus):\n",
        "        super().__init__(hours_worked, hourly_rate)  # Call the parent class constructor\n",
        "        self.bonus = bonus\n",
        "\n",
        "    def calculate_salary(self):\n",
        "        base_salary = super().calculate_salary()  # Use the parent class method\n",
        "        return base_salary + self.bonus\n",
        "\n",
        "e1 = Employee(40, 20)\n",
        "print(\"Employee salary:\", e1.calculate_salary())  # Output: 800\n",
        "\n",
        "m1 = Manager(40, 20, 500)\n",
        "print(\"Manager salary:\", m1.calculate_salary())   # Output: 1300"
      ],
      "metadata": {
        "id": "hyQP_wPHKtwf"
      },
      "execution_count": null,
      "outputs": []
    },
    {
      "cell_type": "code",
      "source": [
        "#Q15. Create a class Product with attributes name, price and quantity. Implement a method total_price() that\n",
        "#calculates the total price of the product\n",
        "\n",
        "class Product:\n",
        "    def __init__(self, name, price, quantity):\n",
        "        self.name = name\n",
        "        self.price = price\n",
        "        self.quantity = quantity\n",
        "\n",
        "    def total_price(self):\n",
        "        return self.price * self.quantity\n",
        "\n",
        "p1 = Product(\"Laptop\", 750, 2)\n",
        "print(f\"Total price for {p1.name}s: ${p1.total_price()}\")"
      ],
      "metadata": {
        "colab": {
          "base_uri": "https://localhost:8080/"
        },
        "id": "WyUmPYBIP2WN",
        "outputId": "5faae885-980b-414f-e8f2-90466c25e09d"
      },
      "execution_count": 17,
      "outputs": [
        {
          "output_type": "stream",
          "name": "stdout",
          "text": [
            "Total price for Laptops: $1500\n"
          ]
        }
      ]
    },
    {
      "cell_type": "code",
      "source": [
        "#Q16. Create a class Animal with an abstract method sound(). Create two derived classes Cow and Sheep that\n",
        "#implement the sound() method.\n",
        "\n",
        "from abc import ABC, abstractmethod\n",
        "\n",
        "class Animal(ABC):\n",
        "    @abstractmethod\n",
        "    def sound(self):\n",
        "        pass\n",
        "\n",
        "\n",
        "class Cow(Animal):\n",
        "    def sound(self):\n",
        "        return \"Moo\"\n",
        "\n",
        "\n",
        "class Sheep(Animal):\n",
        "    def sound(self):\n",
        "        return \"Baa\"\n",
        "\n",
        "cow = Cow()\n",
        "print(\"Cow says:\", cow.sound())     # Output: Moo\n",
        "\n",
        "sheep = Sheep()\n",
        "print(\"Sheep says:\", sheep.sound()) # Output: Baa"
      ],
      "metadata": {
        "colab": {
          "base_uri": "https://localhost:8080/"
        },
        "id": "jWx2ovauQb3r",
        "outputId": "3c538c17-8161-4686-d568-3b73c1c27c77"
      },
      "execution_count": 18,
      "outputs": [
        {
          "output_type": "stream",
          "name": "stdout",
          "text": [
            "Cow says: Moo\n",
            "Sheep says: Baa\n"
          ]
        }
      ]
    },
    {
      "cell_type": "code",
      "source": [
        "#Q17. Create a class Book with attributes title, author and year_published. Add a method get_book_info() that returns a formatted\n",
        "#string with the book's status\n",
        "\n",
        "class Book:\n",
        "    def __init__(self, title, author, year_published):\n",
        "        self.title = title\n",
        "        self.author = author\n",
        "        self.year_published = year_published\n",
        "\n",
        "    def get_book_info(self):\n",
        "        return f\"'{self.title}' by {self.author}, published in {self.year_published}\"\n",
        "\n",
        "b1 = Book(\"Mockingbird\", \"Harper Lee\", 1960)\n",
        "print(b1.get_book_info())\n",
        "\n"
      ],
      "metadata": {
        "colab": {
          "base_uri": "https://localhost:8080/"
        },
        "id": "LGs_EVU2Rt6n",
        "outputId": "42c60dc0-be74-4314-b98d-0dc2f4f05b7c"
      },
      "execution_count": 20,
      "outputs": [
        {
          "output_type": "stream",
          "name": "stdout",
          "text": [
            "'Mockingbird' by Harper Lee, published in 1960\n"
          ]
        }
      ]
    },
    {
      "cell_type": "code",
      "source": [
        "#Q18. Create a class House with attributes address and price. Create a derived class Mansion that adds\n",
        "#an attribute number_of_rooms\n",
        "\n",
        "class House:\n",
        "    def __init__(self, address, price):\n",
        "        self.address = address\n",
        "        self.price = price\n",
        "\n",
        "\n",
        "class Mansion(House):\n",
        "    def __init__(self, address, price, number_of_rooms):\n",
        "        super().__init__(address, price)  # Initialize inherited attributes\n",
        "        self.number_of_rooms = number_of_rooms\n",
        "\n",
        "m = Mansion(\"123 Luxury Lane\", 5000000, 12)\n",
        "print(f\"Mansion at {m.address} costs ${m.price} and has {m.number_of_rooms} rooms.\")\n",
        "\n"
      ],
      "metadata": {
        "colab": {
          "base_uri": "https://localhost:8080/"
        },
        "id": "9ICXpOoXShg0",
        "outputId": "665e7805-02d6-4926-8d0e-707f1db1ea80"
      },
      "execution_count": 21,
      "outputs": [
        {
          "output_type": "stream",
          "name": "stdout",
          "text": [
            "Mansion at 123 Luxury Lane costs $5000000 and has 12 rooms.\n"
          ]
        }
      ]
    },
    {
      "cell_type": "code",
      "source": [],
      "metadata": {
        "id": "EtFkgkhdTZif"
      },
      "execution_count": null,
      "outputs": []
    }
  ]
}